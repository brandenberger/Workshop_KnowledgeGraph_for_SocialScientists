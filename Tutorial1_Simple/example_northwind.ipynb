{
 "cells": [
  {
   "cell_type": "code",
   "execution_count": 27,
   "metadata": {},
   "outputs": [],
   "source": [
    "# Hack to make the module importable\n",
    "import sys\n",
    "sys.path.append(r'./../')"
   ]
  },
  {
   "cell_type": "code",
   "execution_count": 29,
   "metadata": {},
   "outputs": [
    {
     "name": "stdout",
     "output_type": "stream",
     "text": [
      "The autoreload extension is already loaded. To reload it, use:\n",
      "  %reload_ext autoreload\n"
     ]
    }
   ],
   "source": [
    "%load_ext autoreload\n",
    "%autoreload 2\n",
    "import neo4j\n",
    "import pandas as pd\n",
    "\n",
    "from data2neo.relational_modules.pandas import PandasDataFrameIterator\n",
    "from data2neo import IteratorIterator\n",
    "from data2neo import Converter\n",
    "from data2neo.utils import load_file\n",
    "from data2neo import register_subgraph_preprocessor\n",
    "\n",
    "import data2neo.common_modules.types # For FLOAT, INT, etc. wrappers\n",
    "# This is required because the pandas dataframe iterator will convert all values \n",
    "# to int64 which is not supported by neo4j"
   ]
  },
  {
   "cell_type": "code",
   "execution_count": 31,
   "metadata": {},
   "outputs": [],
   "source": [
    "# Configure Logging\n",
    "import logging\n",
    "\n",
    "#logging.basicConfig(level=logging.WARNING)\n",
    "logger = logging.getLogger(\"data2neo\")\n",
    "logger.setLevel(logging.INFO)\n",
    "log_formatter = logging.Formatter(\"%(asctime)s [%(threadName)s]::[%(levelname)s]::%(filename)s: %(message)s\")\n",
    "console_handler = logging.StreamHandler()\n",
    "console_handler.setFormatter(log_formatter)\n",
    "logger.addHandler(console_handler)"
   ]
  },
  {
   "cell_type": "code",
   "execution_count": 33,
   "metadata": {},
   "outputs": [],
   "source": [
    "schema = \"\"\"\n",
    "ENTITY(\"orders\"):\n",
    "  NODE(\"Order\") order:\n",
    "    + orderID = INT(orders.OrderID)\n",
    "    - shipName = orders.ShipName\n",
    "  NODE(\"Product\") product:\n",
    "    + productID = INT(products.ProductID)\n",
    "  NODE(\"Employee\") employee:\n",
    "    + employeeID = INT(employees.EmployeeID)\n",
    "  \n",
    "  RELATIONSHIP(order, \"CONTAINS\", product):\n",
    "    - unitPrice = FLOAT(orders.UnitPrice)\n",
    "    - quantity = FLOAT(orders.Quantity)\n",
    "\n",
    "  RELATIONSHIP(employee, \"SOLD\", order):\n",
    "\n",
    "\n",
    "ENTITY(\"suppliers\"):\n",
    "  NODE(\"Supplier\") supplier:\n",
    "    + supplierID = INT(suppliers.SupplierID)\n",
    "    - companyName = suppliers.CompanyName\n",
    "\n",
    "\n",
    "ENTITY(\"products\"):\n",
    "  NODE(\"Product\") product:\n",
    "    + productID = INT(products.ProductID)\n",
    "    - productName = products.ProductName\n",
    "    - unitPrice = FLOAT(products.UnitPrice)\n",
    "\n",
    "  NODE(\"Supplier\") supplier:\n",
    "    + supplierID = INT(suppliers.SupplierID)\n",
    "  \n",
    "  NODE(\"Category\") category:\n",
    "    + categoryID = INT(categories.CategoryID)\n",
    "\n",
    "  RELATIONSHIP(supplier, \"SUPPLIES\", product):\n",
    "  \n",
    "  RELATIONSHIP(product, \"PART_OF\", category):\n",
    "\n",
    "\n",
    "ENTITY(\"employees\"):\n",
    "  NODE(\"Employee\") employee:\n",
    "    + employeeID = INT(employees.EmployeeID)\n",
    "    - firstName = employees.FirstName\n",
    "    - lastName = employees.LastName\n",
    "    - title = employees.Title\n",
    "\n",
    "  IF_HAS_BOSS(RELATIONSHIP(employee, \"REPORTS_TO\", MATCH(\"Employee\", employeeID = INT(employees.ReportsTo)))):\n",
    "\n",
    "\n",
    "ENTITY(\"categories\"):\n",
    "  NODE(\"Category\") category:\n",
    "    + categoryID = INT(categories.CategoryID)\n",
    "    - categoryName = categories.CategoryName\n",
    "    - description = categories.Description\n",
    "\"\"\""
   ]
  },
  {
   "cell_type": "code",
   "execution_count": 35,
   "metadata": {},
   "outputs": [
    {
     "name": "stderr",
     "output_type": "stream",
     "text": [
      "2025-10-16 21:46:49,406 [MainThread]::[WARNING]::registrar.py: The name 'IF_HAS_BOSS' is already registered. Overwriting it.\n",
      "2025-10-16 21:46:49,406 [MainThread]::[WARNING]::registrar.py: The name 'IF_HAS_BOSS' is already registered. Overwriting it.\n"
     ]
    }
   ],
   "source": [
    "@register_subgraph_preprocessor\n",
    "def IF_HAS_BOSS(resource):\n",
    "    if pd.isna(resource[\"ReportsTo\"]):\n",
    "        return None\n",
    "    return resource"
   ]
  },
  {
   "cell_type": "code",
   "execution_count": 37,
   "metadata": {},
   "outputs": [],
   "source": [
    "uri = \"bolt://localhost:7687\"\n",
    "auth = neo4j.basic_auth(\"neo4j\", \"password\") # CHANGE TO YOUR CREDENTIALS"
   ]
  },
  {
   "cell_type": "code",
   "execution_count": 39,
   "metadata": {},
   "outputs": [],
   "source": [
    "# Delete all nodes and relationships\n",
    "driver = neo4j.GraphDatabase().driver(uri, auth=auth)\n",
    "with driver.session() as session:\n",
    "    session.run(\"MATCH (n) DETACH DELETE n\")"
   ]
  },
  {
   "cell_type": "code",
   "execution_count": 41,
   "metadata": {},
   "outputs": [],
   "source": [
    "# Create IteratorIterator\n",
    "files = [\"categories\", \"employees\", \"orders\", \"products\", \"suppliers\"]\n",
    "iterators = []\n",
    "for file in files:\n",
    "    df = pd.read_csv(f\"https://raw.githubusercontent.com/neo4j-documentation/developer-resources/gh-pages/data/northwind/{file}.csv\")\n",
    "    iterators.append(PandasDataFrameIterator(df, file))"
   ]
  },
  {
   "cell_type": "code",
   "execution_count": 43,
   "metadata": {},
   "outputs": [],
   "source": [
    "iterator = IteratorIterator(iterators)"
   ]
  },
  {
   "cell_type": "code",
   "execution_count": 45,
   "metadata": {},
   "outputs": [],
   "source": [
    "converter = Converter(schema, iterator, uri, auth, num_workers=1, serialize=True)"
   ]
  },
  {
   "cell_type": "code",
   "execution_count": 47,
   "metadata": {},
   "outputs": [
    {
     "data": {
      "application/vnd.jupyter.widget-view+json": {
       "model_id": "2b9b6e7dc941483787bd6da0c3a6e3cf",
       "version_major": 2,
       "version_minor": 0
      },
      "text/plain": [
       "  0%|          | 0/4556 [00:00<?, ?it/s]"
      ]
     },
     "metadata": {},
     "output_type": "display_data"
    },
    {
     "name": "stderr",
     "output_type": "stream",
     "text": [
      "2025-10-16 21:47:02,372 [MainThread]::[INFO]::converter.py: Starting serial processing.\n",
      "2025-10-16 21:47:02,372 [MainThread]::[INFO]::converter.py: Starting serial processing.\n",
      "2025-10-16 21:47:02,372 [MainThread]::[INFO]::converter.py: Starting creation of nodes.\n",
      "2025-10-16 21:47:02,372 [MainThread]::[INFO]::converter.py: Starting creation of nodes.\n",
      "Received notification from DBMS server: {severity: WARNING} {code: Neo.ClientNotification.Statement.FeatureDeprecationWarning} {category: DEPRECATION} {title: This feature is deprecated and will be removed in future versions.} {description: The query used a deprecated function. ('id' has been replaced by 'elementId or consider using an application-generated id')} {position: line: 5, column: 8, offset: 99} for query: \"UNWIND $data AS r\\nMERGE (_:Employee {employeeID:r['employeeID']})\\nSET _ += r\\nSET _:Employee\\nRETURN id(_)\"\n",
      "Received notification from DBMS server: {severity: WARNING} {code: Neo.ClientNotification.Statement.FeatureDeprecationWarning} {category: DEPRECATION} {title: This feature is deprecated and will be removed in future versions.} {description: The query used a deprecated function. ('id' has been replaced by 'elementId or consider using an application-generated id')} {position: line: 5, column: 8, offset: 87} for query: \"UNWIND $data AS r\\nMERGE (_:Order {orderID:r['orderID']})\\nSET _ += r\\nSET _:Order\\nRETURN id(_)\"\n",
      "Received notification from DBMS server: {severity: WARNING} {code: Neo.ClientNotification.Statement.FeatureDeprecationWarning} {category: DEPRECATION} {title: This feature is deprecated and will be removed in future versions.} {description: The query used a deprecated function. ('id' has been replaced by 'elementId or consider using an application-generated id')} {position: line: 5, column: 8, offset: 95} for query: \"UNWIND $data AS r\\nMERGE (_:Product {productID:r['productID']})\\nSET _ += r\\nSET _:Product\\nRETURN id(_)\"\n",
      "Received notification from DBMS server: {severity: WARNING} {code: Neo.ClientNotification.Statement.FeatureDeprecationWarning} {category: DEPRECATION} {title: This feature is deprecated and will be removed in future versions.} {description: The query used a deprecated function. ('id' has been replaced by 'elementId or consider using an application-generated id')} {position: line: 5, column: 8, offset: 99} for query: \"UNWIND $data AS r\\nMERGE (_:Category {categoryID:r['categoryID']})\\nSET _ += r\\nSET _:Category\\nRETURN id(_)\"\n",
      "Received notification from DBMS server: {severity: WARNING} {code: Neo.ClientNotification.Statement.FeatureDeprecationWarning} {category: DEPRECATION} {title: This feature is deprecated and will be removed in future versions.} {description: The query used a deprecated function. ('id' has been replaced by 'elementId or consider using an application-generated id')} {position: line: 5, column: 8, offset: 99} for query: \"UNWIND $data AS r\\nMERGE (_:Supplier {supplierID:r['supplierID']})\\nSET _ += r\\nSET _:Supplier\\nRETURN id(_)\"\n",
      "2025-10-16 21:47:03,354 [MainThread]::[INFO]::converter.py: Starting creation of relations.\n",
      "2025-10-16 21:47:03,354 [MainThread]::[INFO]::converter.py: Starting creation of relations.\n",
      "Received notification from DBMS server: {severity: WARNING} {code: Neo.ClientNotification.Statement.FeatureDeprecationWarning} {category: DEPRECATION} {title: This feature is deprecated and will be removed in future versions.} {description: The query used a deprecated function. ('id' has been replaced by 'elementId or consider using an application-generated id')} {position: line: 3, column: 46, offset: 100} for query: 'UNWIND $data AS r\\nMATCH (n:Employee {employeeID:r[0]})\\nRETURN LABELS(n) as labels, n as properties, id(n) as identity'\n",
      "Received notification from DBMS server: {severity: WARNING} {code: Neo.ClientNotification.Statement.FeatureDeprecationWarning} {category: DEPRECATION} {title: This feature is deprecated and will be removed in future versions.} {description: The query used a deprecated function. ('id' has been replaced by 'elementId or consider using an application-generated id')} {position: line: 3, column: 46, offset: 100} for query: 'UNWIND $data AS r\\nMATCH (n:Employee {employeeID:r[0]})\\nRETURN LABELS(n) as labels, n as properties, id(n) as identity'\n",
      "Received notification from DBMS server: {severity: WARNING} {code: Neo.ClientNotification.Statement.FeatureDeprecationWarning} {category: DEPRECATION} {title: This feature is deprecated and will be removed in future versions.} {description: The query used a deprecated function. ('id' has been replaced by 'elementId or consider using an application-generated id')} {position: line: 3, column: 46, offset: 100} for query: 'UNWIND $data AS r\\nMATCH (n:Employee {employeeID:r[0]})\\nRETURN LABELS(n) as labels, n as properties, id(n) as identity'\n",
      "Received notification from DBMS server: {severity: WARNING} {code: Neo.ClientNotification.Statement.FeatureDeprecationWarning} {category: DEPRECATION} {title: This feature is deprecated and will be removed in future versions.} {description: The query used a deprecated function. ('id' has been replaced by 'elementId or consider using an application-generated id')} {position: line: 3, column: 46, offset: 100} for query: 'UNWIND $data AS r\\nMATCH (n:Employee {employeeID:r[0]})\\nRETURN LABELS(n) as labels, n as properties, id(n) as identity'\n",
      "Received notification from DBMS server: {severity: WARNING} {code: Neo.ClientNotification.Statement.FeatureDeprecationWarning} {category: DEPRECATION} {title: This feature is deprecated and will be removed in future versions.} {description: The query used a deprecated function. ('id' has been replaced by 'elementId or consider using an application-generated id')} {position: line: 3, column: 46, offset: 100} for query: 'UNWIND $data AS r\\nMATCH (n:Employee {employeeID:r[0]})\\nRETURN LABELS(n) as labels, n as properties, id(n) as identity'\n",
      "Received notification from DBMS server: {severity: WARNING} {code: Neo.ClientNotification.Statement.FeatureDeprecationWarning} {category: DEPRECATION} {title: This feature is deprecated and will be removed in future versions.} {description: The query used a deprecated function. ('id' has been replaced by 'elementId or consider using an application-generated id')} {position: line: 3, column: 46, offset: 100} for query: 'UNWIND $data AS r\\nMATCH (n:Employee {employeeID:r[0]})\\nRETURN LABELS(n) as labels, n as properties, id(n) as identity'\n",
      "Received notification from DBMS server: {severity: WARNING} {code: Neo.ClientNotification.Statement.FeatureDeprecationWarning} {category: DEPRECATION} {title: This feature is deprecated and will be removed in future versions.} {description: The query used a deprecated function. ('id' has been replaced by 'elementId or consider using an application-generated id')} {position: line: 3, column: 46, offset: 100} for query: 'UNWIND $data AS r\\nMATCH (n:Employee {employeeID:r[0]})\\nRETURN LABELS(n) as labels, n as properties, id(n) as identity'\n",
      "Received notification from DBMS server: {severity: WARNING} {code: Neo.ClientNotification.Statement.FeatureDeprecationWarning} {category: DEPRECATION} {title: This feature is deprecated and will be removed in future versions.} {description: The query used a deprecated function. ('id' has been replaced by 'elementId or consider using an application-generated id')} {position: line: 3, column: 46, offset: 100} for query: 'UNWIND $data AS r\\nMATCH (n:Employee {employeeID:r[0]})\\nRETURN LABELS(n) as labels, n as properties, id(n) as identity'\n",
      "Received notification from DBMS server: {severity: WARNING} {code: Neo.ClientNotification.Statement.FeatureDeprecationWarning} {category: DEPRECATION} {title: This feature is deprecated and will be removed in future versions.} {description: The query used a deprecated function. ('id' has been replaced by 'elementId or consider using an application-generated id')} {position: line: 2, column: 17, offset: 34} for query: 'UNWIND $data AS r\\nMATCH (a) WHERE id(a) = r[0]\\nMATCH (b) WHERE id(b) = r[2]\\nCREATE (a)-[_:CONTAINS]->(b)\\nSET _ += r[1]\\nRETURN id(_)'\n",
      "Received notification from DBMS server: {severity: WARNING} {code: Neo.ClientNotification.Statement.FeatureDeprecationWarning} {category: DEPRECATION} {title: This feature is deprecated and will be removed in future versions.} {description: The query used a deprecated function. ('id' has been replaced by 'elementId or consider using an application-generated id')} {position: line: 3, column: 17, offset: 63} for query: 'UNWIND $data AS r\\nMATCH (a) WHERE id(a) = r[0]\\nMATCH (b) WHERE id(b) = r[2]\\nCREATE (a)-[_:CONTAINS]->(b)\\nSET _ += r[1]\\nRETURN id(_)'\n",
      "Received notification from DBMS server: {severity: WARNING} {code: Neo.ClientNotification.Statement.FeatureDeprecationWarning} {category: DEPRECATION} {title: This feature is deprecated and will be removed in future versions.} {description: The query used a deprecated function. ('id' has been replaced by 'elementId or consider using an application-generated id')} {position: line: 6, column: 8, offset: 126} for query: 'UNWIND $data AS r\\nMATCH (a) WHERE id(a) = r[0]\\nMATCH (b) WHERE id(b) = r[2]\\nCREATE (a)-[_:CONTAINS]->(b)\\nSET _ += r[1]\\nRETURN id(_)'\n",
      "Received notification from DBMS server: {severity: WARNING} {code: Neo.ClientNotification.Statement.FeatureDeprecationWarning} {category: DEPRECATION} {title: This feature is deprecated and will be removed in future versions.} {description: The query used a deprecated function. ('id' has been replaced by 'elementId or consider using an application-generated id')} {position: line: 2, column: 17, offset: 34} for query: 'UNWIND $data AS r\\nMATCH (a) WHERE id(a) = r[0]\\nMATCH (b) WHERE id(b) = r[2]\\nCREATE (a)-[_:SOLD]->(b)\\nSET _ += r[1]\\nRETURN id(_)'\n",
      "Received notification from DBMS server: {severity: WARNING} {code: Neo.ClientNotification.Statement.FeatureDeprecationWarning} {category: DEPRECATION} {title: This feature is deprecated and will be removed in future versions.} {description: The query used a deprecated function. ('id' has been replaced by 'elementId or consider using an application-generated id')} {position: line: 3, column: 17, offset: 63} for query: 'UNWIND $data AS r\\nMATCH (a) WHERE id(a) = r[0]\\nMATCH (b) WHERE id(b) = r[2]\\nCREATE (a)-[_:SOLD]->(b)\\nSET _ += r[1]\\nRETURN id(_)'\n",
      "Received notification from DBMS server: {severity: WARNING} {code: Neo.ClientNotification.Statement.FeatureDeprecationWarning} {category: DEPRECATION} {title: This feature is deprecated and will be removed in future versions.} {description: The query used a deprecated function. ('id' has been replaced by 'elementId or consider using an application-generated id')} {position: line: 6, column: 8, offset: 122} for query: 'UNWIND $data AS r\\nMATCH (a) WHERE id(a) = r[0]\\nMATCH (b) WHERE id(b) = r[2]\\nCREATE (a)-[_:SOLD]->(b)\\nSET _ += r[1]\\nRETURN id(_)'\n",
      "Received notification from DBMS server: {severity: WARNING} {code: Neo.ClientNotification.Statement.FeatureDeprecationWarning} {category: DEPRECATION} {title: This feature is deprecated and will be removed in future versions.} {description: The query used a deprecated function. ('id' has been replaced by 'elementId or consider using an application-generated id')} {position: line: 2, column: 17, offset: 34} for query: 'UNWIND $data AS r\\nMATCH (a) WHERE id(a) = r[0]\\nMATCH (b) WHERE id(b) = r[2]\\nCREATE (a)-[_:PART_OF]->(b)\\nSET _ += r[1]\\nRETURN id(_)'\n",
      "Received notification from DBMS server: {severity: WARNING} {code: Neo.ClientNotification.Statement.FeatureDeprecationWarning} {category: DEPRECATION} {title: This feature is deprecated and will be removed in future versions.} {description: The query used a deprecated function. ('id' has been replaced by 'elementId or consider using an application-generated id')} {position: line: 3, column: 17, offset: 63} for query: 'UNWIND $data AS r\\nMATCH (a) WHERE id(a) = r[0]\\nMATCH (b) WHERE id(b) = r[2]\\nCREATE (a)-[_:PART_OF]->(b)\\nSET _ += r[1]\\nRETURN id(_)'\n",
      "Received notification from DBMS server: {severity: WARNING} {code: Neo.ClientNotification.Statement.FeatureDeprecationWarning} {category: DEPRECATION} {title: This feature is deprecated and will be removed in future versions.} {description: The query used a deprecated function. ('id' has been replaced by 'elementId or consider using an application-generated id')} {position: line: 6, column: 8, offset: 125} for query: 'UNWIND $data AS r\\nMATCH (a) WHERE id(a) = r[0]\\nMATCH (b) WHERE id(b) = r[2]\\nCREATE (a)-[_:PART_OF]->(b)\\nSET _ += r[1]\\nRETURN id(_)'\n",
      "Received notification from DBMS server: {severity: WARNING} {code: Neo.ClientNotification.Statement.FeatureDeprecationWarning} {category: DEPRECATION} {title: This feature is deprecated and will be removed in future versions.} {description: The query used a deprecated function. ('id' has been replaced by 'elementId or consider using an application-generated id')} {position: line: 2, column: 17, offset: 34} for query: 'UNWIND $data AS r\\nMATCH (a) WHERE id(a) = r[0]\\nMATCH (b) WHERE id(b) = r[2]\\nCREATE (a)-[_:REPORTS_TO]->(b)\\nSET _ += r[1]\\nRETURN id(_)'\n",
      "Received notification from DBMS server: {severity: WARNING} {code: Neo.ClientNotification.Statement.FeatureDeprecationWarning} {category: DEPRECATION} {title: This feature is deprecated and will be removed in future versions.} {description: The query used a deprecated function. ('id' has been replaced by 'elementId or consider using an application-generated id')} {position: line: 3, column: 17, offset: 63} for query: 'UNWIND $data AS r\\nMATCH (a) WHERE id(a) = r[0]\\nMATCH (b) WHERE id(b) = r[2]\\nCREATE (a)-[_:REPORTS_TO]->(b)\\nSET _ += r[1]\\nRETURN id(_)'\n",
      "Received notification from DBMS server: {severity: WARNING} {code: Neo.ClientNotification.Statement.FeatureDeprecationWarning} {category: DEPRECATION} {title: This feature is deprecated and will be removed in future versions.} {description: The query used a deprecated function. ('id' has been replaced by 'elementId or consider using an application-generated id')} {position: line: 6, column: 8, offset: 128} for query: 'UNWIND $data AS r\\nMATCH (a) WHERE id(a) = r[0]\\nMATCH (b) WHERE id(b) = r[2]\\nCREATE (a)-[_:REPORTS_TO]->(b)\\nSET _ += r[1]\\nRETURN id(_)'\n",
      "Received notification from DBMS server: {severity: WARNING} {code: Neo.ClientNotification.Statement.FeatureDeprecationWarning} {category: DEPRECATION} {title: This feature is deprecated and will be removed in future versions.} {description: The query used a deprecated function. ('id' has been replaced by 'elementId or consider using an application-generated id')} {position: line: 2, column: 17, offset: 34} for query: 'UNWIND $data AS r\\nMATCH (a) WHERE id(a) = r[0]\\nMATCH (b) WHERE id(b) = r[2]\\nCREATE (a)-[_:SUPPLIES]->(b)\\nSET _ += r[1]\\nRETURN id(_)'\n",
      "Received notification from DBMS server: {severity: WARNING} {code: Neo.ClientNotification.Statement.FeatureDeprecationWarning} {category: DEPRECATION} {title: This feature is deprecated and will be removed in future versions.} {description: The query used a deprecated function. ('id' has been replaced by 'elementId or consider using an application-generated id')} {position: line: 3, column: 17, offset: 63} for query: 'UNWIND $data AS r\\nMATCH (a) WHERE id(a) = r[0]\\nMATCH (b) WHERE id(b) = r[2]\\nCREATE (a)-[_:SUPPLIES]->(b)\\nSET _ += r[1]\\nRETURN id(_)'\n",
      "Received notification from DBMS server: {severity: WARNING} {code: Neo.ClientNotification.Statement.FeatureDeprecationWarning} {category: DEPRECATION} {title: This feature is deprecated and will be removed in future versions.} {description: The query used a deprecated function. ('id' has been replaced by 'elementId or consider using an application-generated id')} {position: line: 6, column: 8, offset: 126} for query: 'UNWIND $data AS r\\nMATCH (a) WHERE id(a) = r[0]\\nMATCH (b) WHERE id(b) = r[2]\\nCREATE (a)-[_:SUPPLIES]->(b)\\nSET _ += r[1]\\nRETURN id(_)'\n",
      "2025-10-16 21:47:04,102 [MainThread]::[INFO]::converter.py: Processed in total 7695 nodes and 4472 relationships (this run took 1s)\n",
      "2025-10-16 21:47:04,102 [MainThread]::[INFO]::converter.py: Processed in total 7695 nodes and 4472 relationships (this run took 1s)\n"
     ]
    }
   ],
   "source": [
    "from tqdm.notebook import tqdm\n",
    "converter(progress_bar=tqdm)"
   ]
  },
  {
   "cell_type": "code",
   "execution_count": null,
   "metadata": {},
   "outputs": [],
   "source": []
  }
 ],
 "metadata": {
  "interpreter": {
   "hash": "b412206d49013109e888184d145344cd80b977ea9059b5a051a9ff53a4d07d7f"
  },
  "kernelspec": {
   "display_name": "Python [conda env:base] *",
   "language": "python",
   "name": "conda-base-py"
  },
  "language_info": {
   "codemirror_mode": {
    "name": "ipython",
    "version": 3
   },
   "file_extension": ".py",
   "mimetype": "text/x-python",
   "name": "python",
   "nbconvert_exporter": "python",
   "pygments_lexer": "ipython3",
   "version": "3.12.7"
  }
 },
 "nbformat": 4,
 "nbformat_minor": 4
}
